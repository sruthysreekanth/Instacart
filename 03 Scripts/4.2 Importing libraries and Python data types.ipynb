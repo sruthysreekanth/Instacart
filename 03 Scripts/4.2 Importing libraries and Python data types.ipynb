{
 "cells": [
  {
   "cell_type": "markdown",
   "id": "24f206d0",
   "metadata": {},
   "source": [
    "# 01.Importing Libraries"
   ]
  },
  {
   "cell_type": "code",
   "execution_count": 1,
   "id": "eacec129",
   "metadata": {},
   "outputs": [],
   "source": [
    "# import libraries\n",
    "import pandas as pd\n",
    "import numpy as np\n",
    "import os"
   ]
  },
  {
   "cell_type": "markdown",
   "id": "337c64a5",
   "metadata": {},
   "source": [
    " # 02.Python Data types"
   ]
  },
  {
   "cell_type": "code",
   "execution_count": 23,
   "id": "c503f63c",
   "metadata": {},
   "outputs": [],
   "source": [
    "x=50\n",
    "y=50"
   ]
  },
  {
   "cell_type": "code",
   "execution_count": 24,
   "id": "602b4d82",
   "metadata": {},
   "outputs": [
    {
     "data": {
      "text/plain": [
       "100"
      ]
     },
     "execution_count": 24,
     "metadata": {},
     "output_type": "execute_result"
    }
   ],
   "source": [
    "x+y"
   ]
  },
  {
   "cell_type": "code",
   "execution_count": 25,
   "id": "231c4c55",
   "metadata": {},
   "outputs": [],
   "source": [
    "z=200"
   ]
  },
  {
   "cell_type": "code",
   "execution_count": 27,
   "id": "4359bc99",
   "metadata": {},
   "outputs": [
    {
     "data": {
      "text/plain": [
       "100"
      ]
     },
     "execution_count": 27,
     "metadata": {},
     "output_type": "execute_result"
    }
   ],
   "source": [
    "z-(x+y)"
   ]
  },
  {
   "cell_type": "code",
   "execution_count": 31,
   "id": "b2bff3d7",
   "metadata": {},
   "outputs": [
    {
     "data": {
      "text/plain": [
       "100"
      ]
     },
     "execution_count": 31,
     "metadata": {},
     "output_type": "execute_result"
    }
   ],
   "source": [
    "x*2"
   ]
  },
  {
   "cell_type": "code",
   "execution_count": 32,
   "id": "bb1badc1",
   "metadata": {},
   "outputs": [],
   "source": [
    "a=5.678\n",
    "b=9.01"
   ]
  },
  {
   "cell_type": "code",
   "execution_count": 33,
   "id": "4839b0e5",
   "metadata": {},
   "outputs": [
    {
     "data": {
      "text/plain": [
       "0.630188679245283"
      ]
     },
     "execution_count": 33,
     "metadata": {},
     "output_type": "execute_result"
    }
   ],
   "source": [
    "a/b"
   ]
  },
  {
   "cell_type": "code",
   "execution_count": 34,
   "id": "62f8a297",
   "metadata": {},
   "outputs": [],
   "source": [
    "c=1.11"
   ]
  },
  {
   "cell_type": "code",
   "execution_count": 35,
   "id": "47935a3d",
   "metadata": {},
   "outputs": [
    {
     "data": {
      "text/plain": [
       "13.23243243243243"
      ]
     },
     "execution_count": 35,
     "metadata": {},
     "output_type": "execute_result"
    }
   ],
   "source": [
    "(a+b)/c"
   ]
  },
  {
   "cell_type": "code",
   "execution_count": 42,
   "id": "8f853616",
   "metadata": {},
   "outputs": [],
   "source": [
    "d='Sruthy '\n",
    "e='Sreekanth.'"
   ]
  },
  {
   "cell_type": "code",
   "execution_count": 37,
   "id": "63c57c89",
   "metadata": {},
   "outputs": [
    {
     "data": {
      "text/plain": [
       "'Sruthy Sreekanth'"
      ]
     },
     "execution_count": 37,
     "metadata": {},
     "output_type": "execute_result"
    }
   ],
   "source": [
    "d+e"
   ]
  },
  {
   "cell_type": "code",
   "execution_count": 38,
   "id": "d357f1b0",
   "metadata": {},
   "outputs": [],
   "source": [
    "f= 'My name is '\n",
    "g= 'I am a Data Analyst'"
   ]
  },
  {
   "cell_type": "code",
   "execution_count": 43,
   "id": "ba8fb544",
   "metadata": {},
   "outputs": [
    {
     "data": {
      "text/plain": [
       "'My name is Sruthy Sreekanth.I am a Data Analyst'"
      ]
     },
     "execution_count": 43,
     "metadata": {},
     "output_type": "execute_result"
    }
   ],
   "source": [
    "f+d+e+g"
   ]
  },
  {
   "cell_type": "code",
   "execution_count": 44,
   "id": "9dd7a3b2",
   "metadata": {},
   "outputs": [],
   "source": [
    "h='Mama'"
   ]
  },
  {
   "cell_type": "code",
   "execution_count": 45,
   "id": "5bd81f4d",
   "metadata": {},
   "outputs": [
    {
     "data": {
      "text/plain": [
       "'MamaMamaMamaMamaMamaMamaMamaMamaMamaMamaMamaMamaMamaMamaMamaMamaMamaMamaMamaMamaMamaMamaMamaMamaMamaMamaMamaMamaMamaMamaMamaMamaMamaMamaMamaMamaMamaMamaMamaMamaMamaMamaMamaMamaMamaMamaMamaMamaMamaMamaMamaMamaMamaMamaMamaMamaMamaMamaMamaMamaMamaMamaMamaMamaMamaMamaMamaMamaMamaMamaMamaMamaMamaMamaMamaMamaMamaMamaMamaMamaMamaMamaMamaMamaMamaMamaMamaMamaMamaMamaMamaMamaMamaMamaMamaMamaMamaMamaMamaMama'"
      ]
     },
     "execution_count": 45,
     "metadata": {},
     "output_type": "execute_result"
    }
   ],
   "source": [
    "h*100"
   ]
  },
  {
   "cell_type": "code",
   "execution_count": null,
   "id": "b666067b",
   "metadata": {},
   "outputs": [],
   "source": []
  }
 ],
 "metadata": {
  "kernelspec": {
   "display_name": "Python 3 (ipykernel)",
   "language": "python",
   "name": "python3"
  },
  "language_info": {
   "codemirror_mode": {
    "name": "ipython",
    "version": 3
   },
   "file_extension": ".py",
   "mimetype": "text/x-python",
   "name": "python",
   "nbconvert_exporter": "python",
   "pygments_lexer": "ipython3",
   "version": "3.10.9"
  }
 },
 "nbformat": 4,
 "nbformat_minor": 5
}
